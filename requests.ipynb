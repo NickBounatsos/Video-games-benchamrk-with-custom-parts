{
 "cells": [
  {
   "cell_type": "code",
   "execution_count": 142,
   "id": "00997215-67be-4969-b170-ddcaa7a69983",
   "metadata": {},
   "outputs": [],
   "source": [
    "import pandas as pd\n",
    "import numpy as np\n",
    "import requests\n",
    "from bs4 import BeautifulSoup"
   ]
  },
  {
   "cell_type": "markdown",
   "id": "f614a3a0-5a44-46ef-b14f-2c550788c14c",
   "metadata": {},
   "source": [
    "## Creating a dataframe of urls to request"
   ]
  },
  {
   "cell_type": "code",
   "execution_count": 143,
   "id": "3e367559-6ef5-4f04-a22f-4aa44950b770",
   "metadata": {},
   "outputs": [],
   "source": [
    "games_csv=(r'C:/Users/Nick/Desktop/GitHub/video-games-benchmark-with-custom-parts-master/Data/games_list.csv')"
   ]
  },
  {
   "cell_type": "code",
   "execution_count": 144,
   "id": "5a3ecd92-0965-4f89-9d8b-e68394c8dcb8",
   "metadata": {},
   "outputs": [],
   "source": [
    "games_df=pd.read_csv(games_csv)\n",
    "games_df=games_df.rename(columns={\"Name\": \"url\"})"
   ]
  },
  {
   "cell_type": "code",
   "execution_count": 145,
   "id": "ed4f94ee-49b6-4b2c-978c-5acb00b52a68",
   "metadata": {},
   "outputs": [],
   "source": [
    "games_df['url']=games_df['url'].str.replace(' ', '-').str.replace(':', '').str.replace(\"'\", \"\").str.replace('®', '').str.replace('™','').str.replace(',', '')"
   ]
  },
  {
   "cell_type": "code",
   "execution_count": 146,
   "id": "842684b4-dac7-4fe4-8268-bafc6f151538",
   "metadata": {},
   "outputs": [],
   "source": [
    "search_string='?sort=alphabetic'"
   ]
  },
  {
   "cell_type": "code",
   "execution_count": 147,
   "id": "08f4b0d8-d38b-4862-8d45-5d295a59eb11",
   "metadata": {},
   "outputs": [],
   "source": [
    "games_df['url']='https://howmanyfps.com/' + games_df['url'] + search_string\n",
    "games_df['url']=games_df['url'].str.lower()"
   ]
  },
  {
   "cell_type": "code",
   "execution_count": null,
   "id": "7600b725-aecf-45d9-ac96-b994230cea74",
   "metadata": {},
   "outputs": [],
   "source": [
    "## "
   ]
  },
  {
   "cell_type": "code",
   "execution_count": null,
   "id": "84e6ec88-087a-4164-a66a-777ee6c90ca1",
   "metadata": {},
   "outputs": [],
   "source": [
    "#<div class=\"css-xp4uvy dropsearch__single-value\">core i9-</div>"
   ]
  },
  {
   "cell_type": "code",
   "execution_count": null,
   "id": "e391a5a5-b001-4087-8b32-df3edbe3ed62",
   "metadata": {},
   "outputs": [],
   "source": [
    "#<div class=\"hl jl\">\n",
    "#<div class=\"css-xp4uvy dropsearch__single-value\">asda</div>"
   ]
  }
 ],
 "metadata": {
  "kernelspec": {
   "display_name": "Python 3 (ipykernel)",
   "language": "python",
   "name": "python3"
  },
  "language_info": {
   "codemirror_mode": {
    "name": "ipython",
    "version": 3
   },
   "file_extension": ".py",
   "mimetype": "text/x-python",
   "name": "python",
   "nbconvert_exporter": "python",
   "pygments_lexer": "ipython3",
   "version": "3.9.1"
  }
 },
 "nbformat": 4,
 "nbformat_minor": 5
}
