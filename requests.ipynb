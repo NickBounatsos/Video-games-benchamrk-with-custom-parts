{
 "cells": [
  {
   "cell_type": "code",
   "execution_count": 190,
   "id": "00997215-67be-4969-b170-ddcaa7a69983",
   "metadata": {},
   "outputs": [],
   "source": [
    "import pandas as pd\n",
    "import numpy as np\n",
    "import requests\n",
    "from bs4 import BeautifulSoup\n",
    "import grequests"
   ]
  },
  {
   "cell_type": "markdown",
   "id": "f614a3a0-5a44-46ef-b14f-2c550788c14c",
   "metadata": {},
   "source": [
    "## Creating a dataframe of urls to request"
   ]
  },
  {
   "cell_type": "code",
   "execution_count": 191,
   "id": "3e367559-6ef5-4f04-a22f-4aa44950b770",
   "metadata": {},
   "outputs": [],
   "source": [
    "games_csv=(r'C:/Users/Nick/Desktop/GitHub/video-games-benchmark-with-custom-parts-master/Data/games_list.csv')"
   ]
  },
  {
   "cell_type": "code",
   "execution_count": 192,
   "id": "5a3ecd92-0965-4f89-9d8b-e68394c8dcb8",
   "metadata": {},
   "outputs": [],
   "source": [
    "games_df=pd.read_csv(games_csv)\n",
    "games_df=games_df.rename(columns={\"Name\": \"url\"})"
   ]
  },
  {
   "cell_type": "code",
   "execution_count": 193,
   "id": "ed4f94ee-49b6-4b2c-978c-5acb00b52a68",
   "metadata": {},
   "outputs": [],
   "source": [
    "games_df['url']=games_df['url'].str.replace(' ', '-').str.replace(':', '').str.replace(\"'\", \"\").str.replace('®', '').str.replace('™','').str.replace(',', '')"
   ]
  },
  {
   "cell_type": "code",
   "execution_count": 194,
   "id": "842684b4-dac7-4fe4-8268-bafc6f151538",
   "metadata": {},
   "outputs": [],
   "source": [
    "search_string='?sort=alphabetic'"
   ]
  },
  {
   "cell_type": "code",
   "execution_count": 195,
   "id": "08f4b0d8-d38b-4862-8d45-5d295a59eb11",
   "metadata": {},
   "outputs": [],
   "source": [
    "games_df['url']='https://howmanyfps.com/' + games_df['url'] + search_string\n",
    "games_df['url']=games_df['url'].str.lower()"
   ]
  },
  {
   "cell_type": "markdown",
   "id": "6126df2c-df9a-4137-ac1e-46aa546cd891",
   "metadata": {},
   "source": [
    "## Loading CPUs and GPUs to request as parameters"
   ]
  },
  {
   "cell_type": "code",
   "execution_count": 196,
   "id": "4181a8de-8bd3-4501-a862-dabba69552c4",
   "metadata": {},
   "outputs": [],
   "source": [
    "gpu_csv = (r'C:/Users/Nick/Desktop/GitHub/video-games-benchmark-with-custom-parts-master/Data/CPU_UserBenchmarks.csv')\n",
    "cpu_csv = (r'C:/Users/Nick/Desktop/GitHub/video-games-benchmark-with-custom-parts-master/Data/GPU_UserBenchmarks.csv')\n",
    "gpu_df=pd.read_csv(gpu_csv)\n",
    "cpu_df=pd.read_csv(cpu_csv)\n",
    "gpu_df=gpu_df.drop(columns=[\"Type\", \"Part Number\", \"Rank\", \"Benchmark\", \"Samples\", \"URL\"])\n",
    "cpu_df=cpu_df.drop(columns=[\"Type\", \"Part Number\", \"Rank\", \"Benchmark\", \"Samples\", \"URL\"])"
   ]
  },
  {
   "cell_type": "markdown",
   "id": "69fe9fc7-6633-43e7-9296-696590d38e61",
   "metadata": {},
   "source": [
    "## Requesting"
   ]
  },
  {
   "cell_type": "code",
   "execution_count": 205,
   "id": "dc8364b4-c3cf-46b4-af70-298816fa4780",
   "metadata": {},
   "outputs": [],
   "source": [
    "url = games_df['url']"
   ]
  },
  {
   "cell_type": "code",
   "execution_count": null,
   "id": "4d5e45ac-4e1d-4b20-b27f-c4aef9964b4c",
   "metadata": {},
   "outputs": [],
   "source": []
  },
  {
   "cell_type": "code",
   "execution_count": null,
   "id": "7e409734-e39e-4bed-a3d5-0be02639bccb",
   "metadata": {},
   "outputs": [],
   "source": []
  },
  {
   "cell_type": "code",
   "execution_count": null,
   "id": "97caf7be-85af-4af6-822f-60633c784f76",
   "metadata": {},
   "outputs": [],
   "source": []
  },
  {
   "cell_type": "code",
   "execution_count": null,
   "id": "ba6e7ce6-be4c-4534-8a8e-6a1633528f48",
   "metadata": {},
   "outputs": [],
   "source": []
  },
  {
   "cell_type": "code",
   "execution_count": 200,
   "id": "84e6ec88-087a-4164-a66a-777ee6c90ca1",
   "metadata": {},
   "outputs": [],
   "source": [
    "#<div class=\"css-xp4uvy dropsearch__single-value\">core i9-</div>"
   ]
  },
  {
   "cell_type": "code",
   "execution_count": 201,
   "id": "e391a5a5-b001-4087-8b32-df3edbe3ed62",
   "metadata": {},
   "outputs": [],
   "source": [
    "#<div class=\"hl jl\">\n",
    "#<div class=\"css-xp4uvy dropsearch__single-value\">asda</div>"
   ]
  }
 ],
 "metadata": {
  "kernelspec": {
   "display_name": "Python 3 (ipykernel)",
   "language": "python",
   "name": "python3"
  },
  "language_info": {
   "codemirror_mode": {
    "name": "ipython",
    "version": 3
   },
   "file_extension": ".py",
   "mimetype": "text/x-python",
   "name": "python",
   "nbconvert_exporter": "python",
   "pygments_lexer": "ipython3",
   "version": "3.9.1"
  }
 },
 "nbformat": 4,
 "nbformat_minor": 5
}
