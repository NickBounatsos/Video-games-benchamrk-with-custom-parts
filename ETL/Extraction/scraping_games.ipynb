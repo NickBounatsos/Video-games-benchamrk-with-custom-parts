{
 "cells": [
  {
   "cell_type": "code",
   "execution_count": 74,
   "id": "df05fa49-8ced-4288-b48f-f09a94f97627",
   "metadata": {},
   "outputs": [],
   "source": [
    "import pandas as pd\n",
    "import numpy as np\n",
    "import requests\n",
    "from bs4 import BeautifulSoup\n",
    "import json"
   ]
  },
  {
   "cell_type": "markdown",
   "id": "b7fcae9b-a977-46ff-8991-9104542e2953",
   "metadata": {},
   "source": [
    "## Scraping all games from howmanyfps.com"
   ]
  },
  {
   "cell_type": "code",
   "execution_count": 39,
   "id": "07f939ef-e368-44d8-88c1-030a760c7ddc",
   "metadata": {},
   "outputs": [],
   "source": [
    "games_url = requests.get(\"https://howmanyfps.com/?sort=alphabetic\")\n",
    "soup = BeautifulSoup(games_url.text, 'html.parser')\n",
    "games_data = soup.findAll('div', attrs = {'class': 'Yb'})\n",
    "games_df = pd.DataFrame({\"Name\" : pd.Series(dtype='str')})"
   ]
  },
  {
   "cell_type": "code",
   "execution_count": 40,
   "id": "6fe24297-7546-4ba7-b842-bec6ec8f0539",
   "metadata": {},
   "outputs": [],
   "source": [
    "for store in games_data:\n",
    "    name = store.h3.text\n",
    "    games_df=games_df.append({'Name' : name}, ignore_index=True)"
   ]
  },
  {
   "cell_type": "markdown",
   "id": "cf814a5e-26d8-4ea3-a5a7-92448f8515d0",
   "metadata": {},
   "source": [
    "## Exporting the Results"
   ]
  },
  {
   "cell_type": "code",
   "execution_count": 41,
   "id": "31bbef82-7aeb-4afc-8a80-7d2ae6ac8b7d",
   "metadata": {},
   "outputs": [],
   "source": [
    "games_df.to_csv('C:/Users/Nick/Desktop/GitHub/video-games-benchmark-with-custom-parts-master/Data/games_list.csv', index=False)"
   ]
  }
 ],
 "metadata": {
  "kernelspec": {
   "display_name": "Python 3 (ipykernel)",
   "language": "python",
   "name": "python3"
  },
  "language_info": {
   "codemirror_mode": {
    "name": "ipython",
    "version": 3
   },
   "file_extension": ".py",
   "mimetype": "text/x-python",
   "name": "python",
   "nbconvert_exporter": "python",
   "pygments_lexer": "ipython3",
   "version": "3.9.1"
  }
 },
 "nbformat": 4,
 "nbformat_minor": 5
}
