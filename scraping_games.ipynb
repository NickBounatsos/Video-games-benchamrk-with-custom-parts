{
 "cells": [
  {
   "cell_type": "code",
   "execution_count": 25,
   "id": "df05fa49-8ced-4288-b48f-f09a94f97627",
   "metadata": {},
   "outputs": [],
   "source": [
    "import pandas as pd\n",
    "import numpy as np\n",
    "import requests\n",
    "from bs4 import BeautifulSoup"
   ]
  },
  {
   "cell_type": "markdown",
   "id": "b7fcae9b-a977-46ff-8991-9104542e2953",
   "metadata": {},
   "source": [
    "## Scraping Games from howmanyfps.com and exporting it to a csv"
   ]
  },
  {
   "cell_type": "code",
   "execution_count": 26,
   "id": "07f939ef-e368-44d8-88c1-030a760c7ddc",
   "metadata": {},
   "outputs": [],
   "source": [
    "games_page = requests.get(\"https://howmanyfps.com/?sort=alphabetic\")\n",
    "soup = BeautifulSoup(games_page.text, 'html.parser')\n",
    "games_data = soup.findAll('div', attrs = {'class': 'Yb'})\n",
    "games_df = pd.DataFrame({\"Name\" : pd.Series(dtype='str')})"
   ]
  },
  {
   "cell_type": "code",
   "execution_count": 28,
   "id": "6fe24297-7546-4ba7-b842-bec6ec8f0539",
   "metadata": {},
   "outputs": [],
   "source": [
    "for store in games_data:\n",
    "    name = store.h3.text\n",
    "    games_df=games_df.append({'Name' : name}, ignore_index=True)"
   ]
  },
  {
   "cell_type": "code",
   "execution_count": 35,
   "id": "a7ef5eb0-363e-49da-a566-1b0f2229d0cc",
   "metadata": {},
   "outputs": [],
   "source": [
    "games_df.to_csv('C:/Users/Nick/Desktop/GitHub/video-games-benchmark-with-custom-parts-master/Data/games_list.csv', index=False)"
   ]
  },
  {
   "cell_type": "code",
   "execution_count": null,
   "id": "9e6a8636-c342-4516-804b-59e1e35b32e7",
   "metadata": {},
   "outputs": [],
   "source": []
  }
 ],
 "metadata": {
  "kernelspec": {
   "display_name": "Python 3 (ipykernel)",
   "language": "python",
   "name": "python3"
  },
  "language_info": {
   "codemirror_mode": {
    "name": "ipython",
    "version": 3
   },
   "file_extension": ".py",
   "mimetype": "text/x-python",
   "name": "python",
   "nbconvert_exporter": "python",
   "pygments_lexer": "ipython3",
   "version": "3.9.1"
  }
 },
 "nbformat": 4,
 "nbformat_minor": 5
}
