{
 "cells": [
  {
   "cell_type": "code",
   "execution_count": 1,
   "id": "00997215-67be-4969-b170-ddcaa7a69983",
   "metadata": {},
   "outputs": [],
   "source": [
    "import pandas as pd\n",
    "import numpy as np\n",
    "import requests\n",
    "import json\n",
    "from bs4 import BeautifulSoup\n",
    "import re\n",
    "import time\n",
    "from tqdm.notebook import tqdm, trange\n",
    "import tqdm.notebook as tq"
   ]
  },
  {
   "cell_type": "markdown",
   "id": "f614a3a0-5a44-46ef-b14f-2c550788c14c",
   "metadata": {},
   "source": [
    "## Creating a dataframe of urls to request using game names"
   ]
  },
  {
   "cell_type": "code",
   "execution_count": 2,
   "id": "cc29dab4-939e-4c96-af14-cc5e6945a0ac",
   "metadata": {},
   "outputs": [],
   "source": [
    "games_hmf_csv=(r'C:/Users/Nick/Desktop/GitHub/video-games-benchmark-with-custom-parts-master/Data/test/hmf_games.csv')\n",
    "games_hmf_df=pd.read_csv(games_hmf_csv)"
   ]
  },
  {
   "cell_type": "markdown",
   "id": "6126df2c-df9a-4137-ac1e-46aa546cd891",
   "metadata": {},
   "source": [
    "## Loading CPUs and GPUs to request as parameters"
   ]
  },
  {
   "cell_type": "code",
   "execution_count": 3,
   "id": "0618c3b5-ae0b-4d3b-b428-2c86d3683c92",
   "metadata": {},
   "outputs": [],
   "source": [
    "gpu_csv = (r'C:/Users/Nick/Desktop/GitHub/video-games-benchmark-with-custom-parts-master/Data/test/hmf_gpu.csv')\n",
    "cpu_csv = (r'C:/Users/Nick/Desktop/GitHub/video-games-benchmark-with-custom-parts-master/Data/test/hmf_cpu.csv')\n",
    "gpu_df=pd.read_csv(gpu_csv)\n",
    "cpu_df=pd.read_csv(cpu_csv)"
   ]
  },
  {
   "cell_type": "markdown",
   "id": "69fe9fc7-6633-43e7-9296-696590d38e61",
   "metadata": {},
   "source": [
    "## Requesting"
   ]
  },
  {
   "cell_type": "markdown",
   "id": "0d52cdfc-6919-4142-8110-64188105ea38",
   "metadata": {},
   "source": [
    "#### Creating the main dataframe to store our information"
   ]
  },
  {
   "cell_type": "code",
   "execution_count": 4,
   "id": "dc8364b4-c3cf-46b4-af70-298816fa4780",
   "metadata": {},
   "outputs": [],
   "source": [
    "benchmark_df=pd.DataFrame({\"Game\" : pd.Series(dtype='str'),\n",
    "                           \"game_id\" : pd.Series(dtype='str'),\n",
    "                           \"CPU\" : pd.Series(dtype='str'),\n",
    "                           \"cpu_id\" : pd.Series(dtype='str'),\n",
    "                           \"GPU\" : pd.Series(dtype='str'),\n",
    "                           \"gpu_id\" : pd.Series(dtype='str'),\n",
    "                           \"Low\" : pd.Series(dtype='int'),  \n",
    "                           \"Medium\" : pd.Series(dtype='int'),  \n",
    "                           \"High\" : pd.Series(dtype='int'),  \n",
    "                           \"Ultra\" : pd.Series(dtype='int'),})\n",
    "url = \"https://api.howmanyfps.com\"\n",
    "headers={\"user-agent\" : \"Mozilla/5.0 (Windows NT 10.0; Win64; x64) AppleWebKit/537.36 (KHTML, like Gecko) Chrome/93.0.4577.82 Safari/537.36\"}"
   ]
  },
  {
   "cell_type": "markdown",
   "id": "966c45a3-0073-433e-8284-0dee44326736",
   "metadata": {},
   "source": [
    "#### Our main function. Total requests needed to complete the 4 nested loops: 4 Graphic Settings * 102 GPUs * 167 CPUs * 20 Games makes a total of 1,362,720 requests."
   ]
  },
  {
   "cell_type": "code",
   "execution_count": 1,
   "id": "4d5e45ac-4e1d-4b20-b27f-c4aef9964b4c",
   "metadata": {},
   "outputs": [
    {
     "name": "stdout",
     "output_type": "stream",
     "text": [
      "Medium\n"
     ]
    },
    {
     "ename": "NameError",
     "evalue": "name 'tq' is not defined",
     "output_type": "error",
     "traceback": [
      "\u001b[1;31m---------------------------------------------------------------------------\u001b[0m",
      "\u001b[1;31mNameError\u001b[0m                                 Traceback (most recent call last)",
      "\u001b[1;32m~\\AppData\\Local\\Temp/ipykernel_7704/2543187798.py\u001b[0m in \u001b[0;36m<module>\u001b[1;34m\u001b[0m\n\u001b[0;32m      6\u001b[0m \u001b[0mprint\u001b[0m\u001b[1;33m(\u001b[0m\u001b[0mgraphics\u001b[0m\u001b[1;33m[\u001b[0m\u001b[1;36m1\u001b[0m\u001b[1;33m]\u001b[0m\u001b[1;33m)\u001b[0m\u001b[1;33m\u001b[0m\u001b[1;33m\u001b[0m\u001b[0m\n\u001b[0;32m      7\u001b[0m \u001b[0mcounter\u001b[0m\u001b[1;33m=\u001b[0m\u001b[1;36m1\u001b[0m\u001b[1;33m\u001b[0m\u001b[1;33m\u001b[0m\u001b[0m\n\u001b[1;32m----> 8\u001b[1;33m \u001b[1;32mfor\u001b[0m \u001b[0mgames\u001b[0m \u001b[1;32min\u001b[0m \u001b[0mtq\u001b[0m\u001b[1;33m.\u001b[0m\u001b[0mtqdm\u001b[0m\u001b[1;33m(\u001b[0m\u001b[0mgame_level\u001b[0m\u001b[1;33m,\u001b[0m \u001b[0mdesc\u001b[0m\u001b[1;33m=\u001b[0m\u001b[1;34m'Games'\u001b[0m\u001b[1;33m,\u001b[0m \u001b[0mposition\u001b[0m\u001b[1;33m=\u001b[0m\u001b[1;36m0\u001b[0m\u001b[1;33m,\u001b[0m \u001b[0mleave\u001b[0m\u001b[1;33m=\u001b[0m\u001b[1;32mFalse\u001b[0m\u001b[1;33m)\u001b[0m\u001b[1;33m:\u001b[0m\u001b[1;33m\u001b[0m\u001b[1;33m\u001b[0m\u001b[0m\n\u001b[0m\u001b[0;32m      9\u001b[0m     \u001b[1;32mfor\u001b[0m \u001b[0msome\u001b[0m \u001b[1;32min\u001b[0m \u001b[0mtq\u001b[0m\u001b[1;33m.\u001b[0m\u001b[0mtqdm\u001b[0m\u001b[1;33m(\u001b[0m\u001b[0mcpu_level\u001b[0m\u001b[1;33m,\u001b[0m \u001b[0mdesc\u001b[0m\u001b[1;33m=\u001b[0m\u001b[1;34m'CPUs'\u001b[0m\u001b[1;33m,\u001b[0m \u001b[0mposition\u001b[0m\u001b[1;33m=\u001b[0m\u001b[1;36m0\u001b[0m\u001b[1;33m,\u001b[0m \u001b[0mleave\u001b[0m\u001b[1;33m=\u001b[0m\u001b[1;32mFalse\u001b[0m\u001b[1;33m)\u001b[0m\u001b[1;33m:\u001b[0m\u001b[1;33m\u001b[0m\u001b[1;33m\u001b[0m\u001b[0m\n\u001b[0;32m     10\u001b[0m         \u001b[1;32mfor\u001b[0m \u001b[0mnumber\u001b[0m \u001b[1;32min\u001b[0m \u001b[0mtq\u001b[0m\u001b[1;33m.\u001b[0m\u001b[0mtqdm\u001b[0m\u001b[1;33m(\u001b[0m\u001b[0mgpu_level\u001b[0m\u001b[1;33m,\u001b[0m \u001b[0mdesc\u001b[0m\u001b[1;33m=\u001b[0m\u001b[1;34m'GPUs'\u001b[0m\u001b[1;33m,\u001b[0m \u001b[0mposition\u001b[0m\u001b[1;33m=\u001b[0m\u001b[1;36m0\u001b[0m\u001b[1;33m,\u001b[0m \u001b[0mleave\u001b[0m\u001b[1;33m=\u001b[0m\u001b[1;32mFalse\u001b[0m\u001b[1;33m)\u001b[0m\u001b[1;33m:\u001b[0m\u001b[1;33m\u001b[0m\u001b[1;33m\u001b[0m\u001b[0m\n",
      "\u001b[1;31mNameError\u001b[0m: name 'tq' is not defined"
     ]
    }
   ],
   "source": [
    "game_level = list(range(20))\n",
    "cpu_level = list(range(167))\n",
    "gpu_level = list(range(10))\n",
    "graphics_level = list(range(4))\n",
    "graphics = ['Low', 'Medium', 'High', 'Ultra']\n",
    "counter=1\n",
    "for games in tq.tqdm(game_level, desc='Games', position=0, leave=False):\n",
    "    for some in tq.tqdm(cpu_level, desc='CPUs', position=0, leave=False):\n",
    "        for number in tq.tqdm(gpu_level, desc='GPUs', position=0, leave=False):\n",
    "            for graphic in tq.tqdm(graphics_level, desc='Graphics', position=0, leave=False):\n",
    "                time.sleep(0.01)\n",
    "            \n",
    "                data = {\"gameId\" : games_hmf_df['id'].iloc[games],\n",
    "                        \"presetName\": graphics[graphic],\"resolutionName\":\"1920x1080\",\n",
    "                        \"cpuId\":cpu_df['id'].iloc[some],\n",
    "                        \"gpuId\":gpu_df['id'].iloc[number]}\n",
    "                response_low = requests.post(url, json = data, headers=headers)\n",
    "                fps=int(re.search(r'\\d+', response_low.text).group())\n",
    "                \n",
    "                benchmark_df.loc[counter,:]=[games_hmf_df['Name'].iloc[games],\n",
    "                                            games_hmf_df['id'].iloc[games],\n",
    "                                            cpu_df['model'].iloc[some],\n",
    "                                            cpu_df['id'].iloc[some],\n",
    "                                            gpu_df['model'].iloc[number],\n",
    "                                            gpu_df['id'].iloc[number],\n",
    "                                            fps,\n",
    "                                            fps,\n",
    "                                            fps,\n",
    "                                            fps]\n",
    "                counter=counter+1"
   ]
  },
  {
   "cell_type": "markdown",
   "id": "ac875b2c-6793-46d6-802a-c739bf685c55",
   "metadata": {},
   "source": [
    "#### Converting our float values to int"
   ]
  },
  {
   "cell_type": "code",
   "execution_count": 6,
   "id": "86d5400a-7ded-4235-a09d-4ece62b9df43",
   "metadata": {},
   "outputs": [],
   "source": [
    "benchmark_df.Low = benchmark_df.Low.astype(int)\n",
    "benchmark_df.Medium = benchmark_df.Medium.astype(int)\n",
    "benchmark_df.High = benchmark_df.High.astype(int)\n",
    "benchmark_df.Ultra = benchmark_df.Ultra.astype(int)"
   ]
  },
  {
   "cell_type": "markdown",
   "id": "3864a955-780c-4563-a14d-b719c1280612",
   "metadata": {},
   "source": [
    "#### Exporting the data to our csv/excel file."
   ]
  },
  {
   "cell_type": "code",
   "execution_count": 7,
   "id": "ba6e7ce6-be4c-4534-8a8e-6a1633528f48",
   "metadata": {},
   "outputs": [],
   "source": [
    "benchmark_df.to_csv('C:/Users/Nick/Desktop/GitHub/video-games-benchmark-with-custom-parts-master/Data/benchmark_1.csv', index=False)\n",
    "benchmark_df.to_excel('C:/Users/Nick/Desktop/GitHub/video-games-benchmark-with-custom-parts-master/Data/benchmark_1.xlsx', index=False)"
   ]
  },
  {
   "cell_type": "code",
   "execution_count": null,
   "id": "84e6ec88-087a-4164-a66a-777ee6c90ca1",
   "metadata": {},
   "outputs": [],
   "source": []
  },
  {
   "cell_type": "code",
   "execution_count": null,
   "id": "e391a5a5-b001-4087-8b32-df3edbe3ed62",
   "metadata": {},
   "outputs": [],
   "source": []
  },
  {
   "cell_type": "code",
   "execution_count": null,
   "id": "5b339e30-88a4-41e9-aa8d-e82833f61b3c",
   "metadata": {},
   "outputs": [],
   "source": []
  },
  {
   "cell_type": "code",
   "execution_count": null,
   "id": "ce1ac2f3-a5a8-4631-9cfa-c4beaf3e319f",
   "metadata": {},
   "outputs": [],
   "source": []
  },
  {
   "cell_type": "code",
   "execution_count": null,
   "id": "9aabb1d2-c72f-4ad5-a42b-9e0e0845a102",
   "metadata": {},
   "outputs": [],
   "source": []
  },
  {
   "cell_type": "code",
   "execution_count": null,
   "id": "01a4b8e2-0f56-4658-bc53-b1c3a50460e4",
   "metadata": {},
   "outputs": [],
   "source": []
  },
  {
   "cell_type": "code",
   "execution_count": null,
   "id": "8dd3a73d-a5ef-4eae-9f8e-fc1408b78e3f",
   "metadata": {},
   "outputs": [],
   "source": []
  },
  {
   "cell_type": "code",
   "execution_count": null,
   "id": "209f02aa-e8c0-4ee5-a4ec-45e53804c612",
   "metadata": {},
   "outputs": [],
   "source": []
  },
  {
   "cell_type": "code",
   "execution_count": null,
   "id": "1fb6259b-5384-4384-9dfd-7ca3627f81d9",
   "metadata": {},
   "outputs": [],
   "source": []
  },
  {
   "cell_type": "code",
   "execution_count": null,
   "id": "7a90afaf-0ce2-4216-bed1-b12c3e260fdb",
   "metadata": {},
   "outputs": [],
   "source": []
  },
  {
   "cell_type": "code",
   "execution_count": null,
   "id": "bef83230-52b2-4398-adf2-6dca0372d122",
   "metadata": {},
   "outputs": [],
   "source": []
  },
  {
   "cell_type": "code",
   "execution_count": null,
   "id": "98e28506-a797-4776-8c8e-71dab77126d8",
   "metadata": {},
   "outputs": [],
   "source": []
  }
 ],
 "metadata": {
  "kernelspec": {
   "display_name": "Python 3 (ipykernel)",
   "language": "python",
   "name": "python3"
  },
  "language_info": {
   "codemirror_mode": {
    "name": "ipython",
    "version": 3
   },
   "file_extension": ".py",
   "mimetype": "text/x-python",
   "name": "python",
   "nbconvert_exporter": "python",
   "pygments_lexer": "ipython3",
   "version": "3.9.1"
  }
 },
 "nbformat": 4,
 "nbformat_minor": 5
}
