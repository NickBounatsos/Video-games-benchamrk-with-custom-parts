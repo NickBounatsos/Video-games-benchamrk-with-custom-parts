{
 "cells": [
  {
   "cell_type": "code",
   "execution_count": 139,
   "id": "00997215-67be-4969-b170-ddcaa7a69983",
   "metadata": {},
   "outputs": [],
   "source": [
    "import pandas as pd\n",
    "import numpy as np\n",
    "import requests\n",
    "import json\n",
    "from bs4 import BeautifulSoup\n",
    "import re\n",
    "import time\n",
    "from tqdm.notebook import tqdm, trange"
   ]
  },
  {
   "cell_type": "markdown",
   "id": "f614a3a0-5a44-46ef-b14f-2c550788c14c",
   "metadata": {},
   "source": [
    "## Creating a dataframe of urls to request using game names"
   ]
  },
  {
   "cell_type": "code",
   "execution_count": 140,
   "id": "3e367559-6ef5-4f04-a22f-4aa44950b770",
   "metadata": {},
   "outputs": [],
   "source": [
    "games_csv=(r'C:/Users/Nick/Desktop/GitHub/video-games-benchmark-with-custom-parts-master/Data/games_list.csv')\n",
    "games_hmf_csv=(r'C:/Users/Nick/Desktop/GitHub/video-games-benchmark-with-custom-parts-master/Data/hmf_games.csv')"
   ]
  },
  {
   "cell_type": "code",
   "execution_count": 141,
   "id": "5a3ecd92-0965-4f89-9d8b-e68394c8dcb8",
   "metadata": {},
   "outputs": [],
   "source": [
    "games_df=pd.read_csv(games_csv)\n",
    "games_hmf_df=pd.read_csv(games_hmf_csv)\n",
    "games_df=games_df.rename(columns={\"Name\": \"url\"})"
   ]
  },
  {
   "cell_type": "code",
   "execution_count": 142,
   "id": "ed4f94ee-49b6-4b2c-978c-5acb00b52a68",
   "metadata": {},
   "outputs": [],
   "source": [
    "games_df['url']=games_df['url'].str.replace(' ', '-').str.replace(':', '').str.replace(\"'\", \"\").str.replace('®', '').str.replace('™','').str.replace(',', '')"
   ]
  },
  {
   "cell_type": "code",
   "execution_count": 143,
   "id": "842684b4-dac7-4fe4-8268-bafc6f151538",
   "metadata": {},
   "outputs": [],
   "source": [
    "search_string='?sort=alphabetic'"
   ]
  },
  {
   "cell_type": "code",
   "execution_count": 144,
   "id": "08f4b0d8-d38b-4862-8d45-5d295a59eb11",
   "metadata": {},
   "outputs": [],
   "source": [
    "games_df['url']='https://howmanyfps.com/' + games_df['url'] + search_string\n",
    "games_df['url']=games_df['url'].str.lower()"
   ]
  },
  {
   "cell_type": "markdown",
   "id": "6126df2c-df9a-4137-ac1e-46aa546cd891",
   "metadata": {},
   "source": [
    "## Loading CPUs and GPUs to request as parameters"
   ]
  },
  {
   "cell_type": "code",
   "execution_count": 145,
   "id": "4181a8de-8bd3-4501-a862-dabba69552c4",
   "metadata": {},
   "outputs": [],
   "source": [
    "gpu_csv = (r'C:/Users/Nick/Desktop/GitHub/video-games-benchmark-with-custom-parts-master/Data/hmf_gpu.csv')\n",
    "cpu_csv = (r'C:/Users/Nick/Desktop/GitHub/video-games-benchmark-with-custom-parts-master/Data/hmf_cpu.csv')\n",
    "gpu_df=pd.read_csv(gpu_csv)\n",
    "cpu_df=pd.read_csv(cpu_csv)"
   ]
  },
  {
   "cell_type": "code",
   "execution_count": 146,
   "id": "4384ef44-d477-4686-bf38-fa81606c749d",
   "metadata": {},
   "outputs": [
    {
     "data": {
      "text/html": [
       "<div>\n",
       "<style scoped>\n",
       "    .dataframe tbody tr th:only-of-type {\n",
       "        vertical-align: middle;\n",
       "    }\n",
       "\n",
       "    .dataframe tbody tr th {\n",
       "        vertical-align: top;\n",
       "    }\n",
       "\n",
       "    .dataframe thead th {\n",
       "        text-align: right;\n",
       "    }\n",
       "</style>\n",
       "<table border=\"1\" class=\"dataframe\">\n",
       "  <thead>\n",
       "    <tr style=\"text-align: right;\">\n",
       "      <th></th>\n",
       "      <th>id</th>\n",
       "      <th>manufacturer</th>\n",
       "      <th>model</th>\n",
       "      <th>segment</th>\n",
       "    </tr>\n",
       "  </thead>\n",
       "  <tbody>\n",
       "    <tr>\n",
       "      <th>0</th>\n",
       "      <td>60f04d641385bd17bac9ad0d</td>\n",
       "      <td>AMD</td>\n",
       "      <td>Radeon Pro W6800</td>\n",
       "      <td>Desktop</td>\n",
       "    </tr>\n",
       "    <tr>\n",
       "      <th>1</th>\n",
       "      <td>60f04d641385bd17bac9ad0c</td>\n",
       "      <td>AMD</td>\n",
       "      <td>Radeon Pro W6600M</td>\n",
       "      <td>Mobile</td>\n",
       "    </tr>\n",
       "    <tr>\n",
       "      <th>2</th>\n",
       "      <td>60f04d641385bd17bac9ad0b</td>\n",
       "      <td>AMD</td>\n",
       "      <td>Radeon Pro W6600</td>\n",
       "      <td>Desktop</td>\n",
       "    </tr>\n",
       "    <tr>\n",
       "      <th>3</th>\n",
       "      <td>6003866ba37b1acb2d7d72db</td>\n",
       "      <td>NVIDIA</td>\n",
       "      <td>GeForce RTX 3080 Ti</td>\n",
       "      <td>Desktop</td>\n",
       "    </tr>\n",
       "    <tr>\n",
       "      <th>4</th>\n",
       "      <td>6003866ba37b1acb2d7d72da</td>\n",
       "      <td>NVIDIA</td>\n",
       "      <td>GeForce RTX 3070 Ti</td>\n",
       "      <td>Desktop</td>\n",
       "    </tr>\n",
       "  </tbody>\n",
       "</table>\n",
       "</div>"
      ],
      "text/plain": [
       "                         id manufacturer                model  segment\n",
       "0  60f04d641385bd17bac9ad0d          AMD     Radeon Pro W6800  Desktop\n",
       "1  60f04d641385bd17bac9ad0c          AMD    Radeon Pro W6600M   Mobile\n",
       "2  60f04d641385bd17bac9ad0b          AMD     Radeon Pro W6600  Desktop\n",
       "3  6003866ba37b1acb2d7d72db       NVIDIA  GeForce RTX 3080 Ti  Desktop\n",
       "4  6003866ba37b1acb2d7d72da       NVIDIA  GeForce RTX 3070 Ti  Desktop"
      ]
     },
     "execution_count": 146,
     "metadata": {},
     "output_type": "execute_result"
    }
   ],
   "source": [
    "gpu_df.head()"
   ]
  },
  {
   "cell_type": "code",
   "execution_count": 147,
   "id": "b80e88ca-2283-4c7b-8f05-a42e1d2ddfaa",
   "metadata": {},
   "outputs": [
    {
     "data": {
      "text/html": [
       "<div>\n",
       "<style scoped>\n",
       "    .dataframe tbody tr th:only-of-type {\n",
       "        vertical-align: middle;\n",
       "    }\n",
       "\n",
       "    .dataframe tbody tr th {\n",
       "        vertical-align: top;\n",
       "    }\n",
       "\n",
       "    .dataframe thead th {\n",
       "        text-align: right;\n",
       "    }\n",
       "</style>\n",
       "<table border=\"1\" class=\"dataframe\">\n",
       "  <thead>\n",
       "    <tr style=\"text-align: right;\">\n",
       "      <th></th>\n",
       "      <th>id</th>\n",
       "      <th>manufacturer</th>\n",
       "      <th>model</th>\n",
       "      <th>segment</th>\n",
       "    </tr>\n",
       "  </thead>\n",
       "  <tbody>\n",
       "    <tr>\n",
       "      <th>0</th>\n",
       "      <td>60f014a31711b076a37bf240</td>\n",
       "      <td>Intel</td>\n",
       "      <td>Core i7-11800H</td>\n",
       "      <td>Mobile</td>\n",
       "    </tr>\n",
       "    <tr>\n",
       "      <th>1</th>\n",
       "      <td>60f014a31711b076a37bf246</td>\n",
       "      <td>Intel</td>\n",
       "      <td>Core i5-11400H</td>\n",
       "      <td>Mobile</td>\n",
       "    </tr>\n",
       "    <tr>\n",
       "      <th>2</th>\n",
       "      <td>60f014a31711b076a37bf23e</td>\n",
       "      <td>Intel</td>\n",
       "      <td>Core i5-11260H</td>\n",
       "      <td>Mobile</td>\n",
       "    </tr>\n",
       "    <tr>\n",
       "      <th>3</th>\n",
       "      <td>60f014a31711b076a37bf24d</td>\n",
       "      <td>Intel</td>\n",
       "      <td>Core i9-11900KF</td>\n",
       "      <td>Desktop</td>\n",
       "    </tr>\n",
       "    <tr>\n",
       "      <th>4</th>\n",
       "      <td>60f014a31711b076a37bf24c</td>\n",
       "      <td>Intel</td>\n",
       "      <td>Core i9-11900K</td>\n",
       "      <td>Desktop</td>\n",
       "    </tr>\n",
       "  </tbody>\n",
       "</table>\n",
       "</div>"
      ],
      "text/plain": [
       "                         id manufacturer            model  segment\n",
       "0  60f014a31711b076a37bf240        Intel   Core i7-11800H   Mobile\n",
       "1  60f014a31711b076a37bf246        Intel   Core i5-11400H   Mobile\n",
       "2  60f014a31711b076a37bf23e        Intel   Core i5-11260H   Mobile\n",
       "3  60f014a31711b076a37bf24d        Intel  Core i9-11900KF  Desktop\n",
       "4  60f014a31711b076a37bf24c        Intel   Core i9-11900K  Desktop"
      ]
     },
     "execution_count": 147,
     "metadata": {},
     "output_type": "execute_result"
    }
   ],
   "source": [
    "cpu_df.head()"
   ]
  },
  {
   "cell_type": "code",
   "execution_count": 148,
   "id": "aa958280-900f-4c4d-88d7-4a86e88dcce2",
   "metadata": {},
   "outputs": [
    {
     "data": {
      "text/html": [
       "<div>\n",
       "<style scoped>\n",
       "    .dataframe tbody tr th:only-of-type {\n",
       "        vertical-align: middle;\n",
       "    }\n",
       "\n",
       "    .dataframe tbody tr th {\n",
       "        vertical-align: top;\n",
       "    }\n",
       "\n",
       "    .dataframe thead th {\n",
       "        text-align: right;\n",
       "    }\n",
       "</style>\n",
       "<table border=\"1\" class=\"dataframe\">\n",
       "  <thead>\n",
       "    <tr style=\"text-align: right;\">\n",
       "      <th></th>\n",
       "      <th>id</th>\n",
       "      <th>Name</th>\n",
       "    </tr>\n",
       "  </thead>\n",
       "  <tbody>\n",
       "    <tr>\n",
       "      <th>0</th>\n",
       "      <td>5df6543578d827f9698e95ac</td>\n",
       "      <td>Middle-earth: Shadow of War</td>\n",
       "    </tr>\n",
       "    <tr>\n",
       "      <th>1</th>\n",
       "      <td>5df6543878d827f9698e9632</td>\n",
       "      <td>Total War: WARHAMMER II</td>\n",
       "    </tr>\n",
       "    <tr>\n",
       "      <th>2</th>\n",
       "      <td>5df6543b78d827f9698e96b8</td>\n",
       "      <td>Wolfenstein II: The New Colossus</td>\n",
       "    </tr>\n",
       "    <tr>\n",
       "      <th>3</th>\n",
       "      <td>5df6546278d827f9698ea89c</td>\n",
       "      <td>Rise of the Tomb Raider</td>\n",
       "    </tr>\n",
       "    <tr>\n",
       "      <th>4</th>\n",
       "      <td>5df6550478d827f9698edd30</td>\n",
       "      <td>StarCraft II: Wings of Liberty</td>\n",
       "    </tr>\n",
       "    <tr>\n",
       "      <th>...</th>\n",
       "      <td>...</td>\n",
       "      <td>...</td>\n",
       "    </tr>\n",
       "    <tr>\n",
       "      <th>91</th>\n",
       "      <td>5fde7cd7bcfa11b43f4b9fe5</td>\n",
       "      <td>Godfall</td>\n",
       "    </tr>\n",
       "    <tr>\n",
       "      <th>92</th>\n",
       "      <td>5fde7d89bcfa11b43f4b9fe6</td>\n",
       "      <td>Death Stranding</td>\n",
       "    </tr>\n",
       "    <tr>\n",
       "      <th>93</th>\n",
       "      <td>5fde7e2cbcfa11b43f4b9fe7</td>\n",
       "      <td>Cyberpunk 2077</td>\n",
       "    </tr>\n",
       "    <tr>\n",
       "      <th>94</th>\n",
       "      <td>5fde7ec8bcfa11b43f4b9fe8</td>\n",
       "      <td>Call of Duty: Black Ops Cold War</td>\n",
       "    </tr>\n",
       "    <tr>\n",
       "      <th>95</th>\n",
       "      <td>5fde7f7abcfa11b43f4b9fe9</td>\n",
       "      <td>Assassin's Creed Valhalla</td>\n",
       "    </tr>\n",
       "  </tbody>\n",
       "</table>\n",
       "<p>96 rows × 2 columns</p>\n",
       "</div>"
      ],
      "text/plain": [
       "                          id                              Name\n",
       "0   5df6543578d827f9698e95ac       Middle-earth: Shadow of War\n",
       "1   5df6543878d827f9698e9632           Total War: WARHAMMER II\n",
       "2   5df6543b78d827f9698e96b8  Wolfenstein II: The New Colossus\n",
       "3   5df6546278d827f9698ea89c           Rise of the Tomb Raider\n",
       "4   5df6550478d827f9698edd30    StarCraft II: Wings of Liberty\n",
       "..                       ...                               ...\n",
       "91  5fde7cd7bcfa11b43f4b9fe5                           Godfall\n",
       "92  5fde7d89bcfa11b43f4b9fe6                   Death Stranding\n",
       "93  5fde7e2cbcfa11b43f4b9fe7                    Cyberpunk 2077\n",
       "94  5fde7ec8bcfa11b43f4b9fe8  Call of Duty: Black Ops Cold War\n",
       "95  5fde7f7abcfa11b43f4b9fe9         Assassin's Creed Valhalla\n",
       "\n",
       "[96 rows x 2 columns]"
      ]
     },
     "execution_count": 148,
     "metadata": {},
     "output_type": "execute_result"
    }
   ],
   "source": [
    "games_hmf_df"
   ]
  },
  {
   "cell_type": "code",
   "execution_count": null,
   "id": "0cd8ad4d-0fa0-4178-9da0-a1b072f5659f",
   "metadata": {},
   "outputs": [],
   "source": []
  },
  {
   "cell_type": "markdown",
   "id": "69fe9fc7-6633-43e7-9296-696590d38e61",
   "metadata": {},
   "source": [
    "## Requesting"
   ]
  },
  {
   "cell_type": "code",
   "execution_count": 149,
   "id": "dc8364b4-c3cf-46b4-af70-298816fa4780",
   "metadata": {},
   "outputs": [],
   "source": [
    "benchmark_df=pd.DataFrame({\"Game\" : pd.Series(dtype='str'),\n",
    "                           \"game_id\" : pd.Series(dtype='str'),\n",
    "                           \"CPU\" : pd.Series(dtype='str'),\n",
    "                           \"cpu_id\" : pd.Series(dtype='str'),\n",
    "                           \"GPU\" : pd.Series(dtype='str'),\n",
    "                           \"gpu_id\" : pd.Series(dtype='str'),\n",
    "                           \"Low\" : pd.Series(dtype='int'),  \n",
    "                           \"Medium\" : pd.Series(dtype='int'),  \n",
    "                           \"High\" : pd.Series(dtype='int'),  \n",
    "                           \"Ultra\" : pd.Series(dtype='int'),})\n",
    "url = \"https://api.howmanyfps.com\"\n",
    "headers={\"user-agent\" : \"Mozilla/5.0 (Windows NT 10.0; Win64; x64) AppleWebKit/537.36 (KHTML, like Gecko) Chrome/93.0.4577.82 Safari/537.36\"}"
   ]
  },
  {
   "cell_type": "code",
   "execution_count": 150,
   "id": "4d5e45ac-4e1d-4b20-b27f-c4aef9964b4c",
   "metadata": {},
   "outputs": [
    {
     "data": {
      "application/vnd.jupyter.widget-view+json": {
       "model_id": "f95f512d17c64e5788a924ce0f869ba6",
       "version_major": 2,
       "version_minor": 0
      },
      "text/plain": [
       "Games:   0%|          | 0/95 [00:00<?, ?it/s]"
      ]
     },
     "metadata": {},
     "output_type": "display_data"
    },
    {
     "data": {
      "application/vnd.jupyter.widget-view+json": {
       "model_id": "9bd9902836f142e6a72a9b8fe3134c33",
       "version_major": 2,
       "version_minor": 0
      },
      "text/plain": [
       "CPUs:   0%|          | 0/1403 [00:00<?, ?it/s]"
      ]
     },
     "metadata": {},
     "output_type": "display_data"
    },
    {
     "data": {
      "application/vnd.jupyter.widget-view+json": {
       "model_id": "",
       "version_major": 2,
       "version_minor": 0
      },
      "text/plain": [
       "GPUs:   0%|          | 0/790 [00:00<?, ?it/s]"
      ]
     },
     "metadata": {},
     "output_type": "display_data"
    },
    {
     "data": {
      "application/vnd.jupyter.widget-view+json": {
       "model_id": "",
       "version_major": 2,
       "version_minor": 0
      },
      "text/plain": [
       "GPUs:   0%|          | 0/790 [00:00<?, ?it/s]"
      ]
     },
     "metadata": {},
     "output_type": "display_data"
    },
    {
     "data": {
      "application/vnd.jupyter.widget-view+json": {
       "model_id": "552d00c94c7c45658b90178682233dc7",
       "version_major": 2,
       "version_minor": 0
      },
      "text/plain": [
       "GPUs:   0%|          | 0/790 [00:00<?, ?it/s]"
      ]
     },
     "metadata": {},
     "output_type": "display_data"
    },
    {
     "ename": "KeyboardInterrupt",
     "evalue": "",
     "output_type": "error",
     "traceback": [
      "\u001b[1;31m---------------------------------------------------------------------------\u001b[0m",
      "\u001b[1;31mKeyboardInterrupt\u001b[0m                         Traceback (most recent call last)",
      "\u001b[1;32m~\\AppData\\Local\\Temp/ipykernel_3784/2756449243.py\u001b[0m in \u001b[0;36m<module>\u001b[1;34m\u001b[0m\n\u001b[0;32m     12\u001b[0m                     \u001b[1;34m\"cpuId\"\u001b[0m\u001b[1;33m:\u001b[0m\u001b[0mcpu_df\u001b[0m\u001b[1;33m[\u001b[0m\u001b[1;34m'id'\u001b[0m\u001b[1;33m]\u001b[0m\u001b[1;33m.\u001b[0m\u001b[0miloc\u001b[0m\u001b[1;33m[\u001b[0m\u001b[0msome\u001b[0m\u001b[1;33m]\u001b[0m\u001b[1;33m,\u001b[0m\u001b[1;33m\u001b[0m\u001b[1;33m\u001b[0m\u001b[0m\n\u001b[0;32m     13\u001b[0m                     \"gpuId\":gpu_df['id'].iloc[number]}\n\u001b[1;32m---> 14\u001b[1;33m             \u001b[0mresponse\u001b[0m \u001b[1;33m=\u001b[0m \u001b[0mrequests\u001b[0m\u001b[1;33m.\u001b[0m\u001b[0mpost\u001b[0m\u001b[1;33m(\u001b[0m\u001b[0murl\u001b[0m\u001b[1;33m,\u001b[0m \u001b[0mjson\u001b[0m \u001b[1;33m=\u001b[0m \u001b[0mdata\u001b[0m\u001b[1;33m,\u001b[0m \u001b[0mheaders\u001b[0m\u001b[1;33m=\u001b[0m\u001b[0mheaders\u001b[0m\u001b[1;33m)\u001b[0m\u001b[1;33m\u001b[0m\u001b[1;33m\u001b[0m\u001b[0m\n\u001b[0m\u001b[0;32m     15\u001b[0m             \u001b[0mfps\u001b[0m\u001b[1;33m=\u001b[0m\u001b[0mint\u001b[0m\u001b[1;33m(\u001b[0m\u001b[0mre\u001b[0m\u001b[1;33m.\u001b[0m\u001b[0msearch\u001b[0m\u001b[1;33m(\u001b[0m\u001b[1;34mr'\\d+'\u001b[0m\u001b[1;33m,\u001b[0m \u001b[0mresponse\u001b[0m\u001b[1;33m.\u001b[0m\u001b[0mtext\u001b[0m\u001b[1;33m)\u001b[0m\u001b[1;33m.\u001b[0m\u001b[0mgroup\u001b[0m\u001b[1;33m(\u001b[0m\u001b[1;33m)\u001b[0m\u001b[1;33m)\u001b[0m\u001b[1;33m\u001b[0m\u001b[1;33m\u001b[0m\u001b[0m\n\u001b[0;32m     16\u001b[0m             benchmark_df.loc[counter,:]=[games_hmf_df['Name'].iloc[games],\n",
      "\u001b[1;32m~\\miniconda3\\lib\\site-packages\\requests\\api.py\u001b[0m in \u001b[0;36mpost\u001b[1;34m(url, data, json, **kwargs)\u001b[0m\n\u001b[0;32m    115\u001b[0m     \"\"\"\n\u001b[0;32m    116\u001b[0m \u001b[1;33m\u001b[0m\u001b[0m\n\u001b[1;32m--> 117\u001b[1;33m     \u001b[1;32mreturn\u001b[0m \u001b[0mrequest\u001b[0m\u001b[1;33m(\u001b[0m\u001b[1;34m'post'\u001b[0m\u001b[1;33m,\u001b[0m \u001b[0murl\u001b[0m\u001b[1;33m,\u001b[0m \u001b[0mdata\u001b[0m\u001b[1;33m=\u001b[0m\u001b[0mdata\u001b[0m\u001b[1;33m,\u001b[0m \u001b[0mjson\u001b[0m\u001b[1;33m=\u001b[0m\u001b[0mjson\u001b[0m\u001b[1;33m,\u001b[0m \u001b[1;33m**\u001b[0m\u001b[0mkwargs\u001b[0m\u001b[1;33m)\u001b[0m\u001b[1;33m\u001b[0m\u001b[1;33m\u001b[0m\u001b[0m\n\u001b[0m\u001b[0;32m    118\u001b[0m \u001b[1;33m\u001b[0m\u001b[0m\n\u001b[0;32m    119\u001b[0m \u001b[1;33m\u001b[0m\u001b[0m\n",
      "\u001b[1;32m~\\miniconda3\\lib\\site-packages\\requests\\api.py\u001b[0m in \u001b[0;36mrequest\u001b[1;34m(method, url, **kwargs)\u001b[0m\n\u001b[0;32m     59\u001b[0m     \u001b[1;31m# cases, and look like a memory leak in others.\u001b[0m\u001b[1;33m\u001b[0m\u001b[1;33m\u001b[0m\u001b[1;33m\u001b[0m\u001b[0m\n\u001b[0;32m     60\u001b[0m     \u001b[1;32mwith\u001b[0m \u001b[0msessions\u001b[0m\u001b[1;33m.\u001b[0m\u001b[0mSession\u001b[0m\u001b[1;33m(\u001b[0m\u001b[1;33m)\u001b[0m \u001b[1;32mas\u001b[0m \u001b[0msession\u001b[0m\u001b[1;33m:\u001b[0m\u001b[1;33m\u001b[0m\u001b[1;33m\u001b[0m\u001b[0m\n\u001b[1;32m---> 61\u001b[1;33m         \u001b[1;32mreturn\u001b[0m \u001b[0msession\u001b[0m\u001b[1;33m.\u001b[0m\u001b[0mrequest\u001b[0m\u001b[1;33m(\u001b[0m\u001b[0mmethod\u001b[0m\u001b[1;33m=\u001b[0m\u001b[0mmethod\u001b[0m\u001b[1;33m,\u001b[0m \u001b[0murl\u001b[0m\u001b[1;33m=\u001b[0m\u001b[0murl\u001b[0m\u001b[1;33m,\u001b[0m \u001b[1;33m**\u001b[0m\u001b[0mkwargs\u001b[0m\u001b[1;33m)\u001b[0m\u001b[1;33m\u001b[0m\u001b[1;33m\u001b[0m\u001b[0m\n\u001b[0m\u001b[0;32m     62\u001b[0m \u001b[1;33m\u001b[0m\u001b[0m\n\u001b[0;32m     63\u001b[0m \u001b[1;33m\u001b[0m\u001b[0m\n",
      "\u001b[1;32m~\\miniconda3\\lib\\site-packages\\requests\\sessions.py\u001b[0m in \u001b[0;36mrequest\u001b[1;34m(self, method, url, params, data, headers, cookies, files, auth, timeout, allow_redirects, proxies, hooks, stream, verify, cert, json)\u001b[0m\n\u001b[0;32m    540\u001b[0m         }\n\u001b[0;32m    541\u001b[0m         \u001b[0msend_kwargs\u001b[0m\u001b[1;33m.\u001b[0m\u001b[0mupdate\u001b[0m\u001b[1;33m(\u001b[0m\u001b[0msettings\u001b[0m\u001b[1;33m)\u001b[0m\u001b[1;33m\u001b[0m\u001b[1;33m\u001b[0m\u001b[0m\n\u001b[1;32m--> 542\u001b[1;33m         \u001b[0mresp\u001b[0m \u001b[1;33m=\u001b[0m \u001b[0mself\u001b[0m\u001b[1;33m.\u001b[0m\u001b[0msend\u001b[0m\u001b[1;33m(\u001b[0m\u001b[0mprep\u001b[0m\u001b[1;33m,\u001b[0m \u001b[1;33m**\u001b[0m\u001b[0msend_kwargs\u001b[0m\u001b[1;33m)\u001b[0m\u001b[1;33m\u001b[0m\u001b[1;33m\u001b[0m\u001b[0m\n\u001b[0m\u001b[0;32m    543\u001b[0m \u001b[1;33m\u001b[0m\u001b[0m\n\u001b[0;32m    544\u001b[0m         \u001b[1;32mreturn\u001b[0m \u001b[0mresp\u001b[0m\u001b[1;33m\u001b[0m\u001b[1;33m\u001b[0m\u001b[0m\n",
      "\u001b[1;32m~\\miniconda3\\lib\\site-packages\\requests\\sessions.py\u001b[0m in \u001b[0;36msend\u001b[1;34m(self, request, **kwargs)\u001b[0m\n\u001b[0;32m    653\u001b[0m \u001b[1;33m\u001b[0m\u001b[0m\n\u001b[0;32m    654\u001b[0m         \u001b[1;31m# Send the request\u001b[0m\u001b[1;33m\u001b[0m\u001b[1;33m\u001b[0m\u001b[1;33m\u001b[0m\u001b[0m\n\u001b[1;32m--> 655\u001b[1;33m         \u001b[0mr\u001b[0m \u001b[1;33m=\u001b[0m \u001b[0madapter\u001b[0m\u001b[1;33m.\u001b[0m\u001b[0msend\u001b[0m\u001b[1;33m(\u001b[0m\u001b[0mrequest\u001b[0m\u001b[1;33m,\u001b[0m \u001b[1;33m**\u001b[0m\u001b[0mkwargs\u001b[0m\u001b[1;33m)\u001b[0m\u001b[1;33m\u001b[0m\u001b[1;33m\u001b[0m\u001b[0m\n\u001b[0m\u001b[0;32m    656\u001b[0m \u001b[1;33m\u001b[0m\u001b[0m\n\u001b[0;32m    657\u001b[0m         \u001b[1;31m# Total elapsed time of the request (approximately)\u001b[0m\u001b[1;33m\u001b[0m\u001b[1;33m\u001b[0m\u001b[1;33m\u001b[0m\u001b[0m\n",
      "\u001b[1;32m~\\miniconda3\\lib\\site-packages\\requests\\adapters.py\u001b[0m in \u001b[0;36msend\u001b[1;34m(self, request, stream, timeout, verify, cert, proxies)\u001b[0m\n\u001b[0;32m    437\u001b[0m         \u001b[1;32mtry\u001b[0m\u001b[1;33m:\u001b[0m\u001b[1;33m\u001b[0m\u001b[1;33m\u001b[0m\u001b[0m\n\u001b[0;32m    438\u001b[0m             \u001b[1;32mif\u001b[0m \u001b[1;32mnot\u001b[0m \u001b[0mchunked\u001b[0m\u001b[1;33m:\u001b[0m\u001b[1;33m\u001b[0m\u001b[1;33m\u001b[0m\u001b[0m\n\u001b[1;32m--> 439\u001b[1;33m                 resp = conn.urlopen(\n\u001b[0m\u001b[0;32m    440\u001b[0m                     \u001b[0mmethod\u001b[0m\u001b[1;33m=\u001b[0m\u001b[0mrequest\u001b[0m\u001b[1;33m.\u001b[0m\u001b[0mmethod\u001b[0m\u001b[1;33m,\u001b[0m\u001b[1;33m\u001b[0m\u001b[1;33m\u001b[0m\u001b[0m\n\u001b[0;32m    441\u001b[0m                     \u001b[0murl\u001b[0m\u001b[1;33m=\u001b[0m\u001b[0murl\u001b[0m\u001b[1;33m,\u001b[0m\u001b[1;33m\u001b[0m\u001b[1;33m\u001b[0m\u001b[0m\n",
      "\u001b[1;32m~\\miniconda3\\lib\\site-packages\\urllib3\\connectionpool.py\u001b[0m in \u001b[0;36murlopen\u001b[1;34m(self, method, url, body, headers, retries, redirect, assert_same_host, timeout, pool_timeout, release_conn, chunked, body_pos, **response_kw)\u001b[0m\n\u001b[0;32m    668\u001b[0m \u001b[1;33m\u001b[0m\u001b[0m\n\u001b[0;32m    669\u001b[0m             \u001b[1;31m# Make the request on the httplib connection object.\u001b[0m\u001b[1;33m\u001b[0m\u001b[1;33m\u001b[0m\u001b[1;33m\u001b[0m\u001b[0m\n\u001b[1;32m--> 670\u001b[1;33m             httplib_response = self._make_request(\n\u001b[0m\u001b[0;32m    671\u001b[0m                 \u001b[0mconn\u001b[0m\u001b[1;33m,\u001b[0m\u001b[1;33m\u001b[0m\u001b[1;33m\u001b[0m\u001b[0m\n\u001b[0;32m    672\u001b[0m                 \u001b[0mmethod\u001b[0m\u001b[1;33m,\u001b[0m\u001b[1;33m\u001b[0m\u001b[1;33m\u001b[0m\u001b[0m\n",
      "\u001b[1;32m~\\miniconda3\\lib\\site-packages\\urllib3\\connectionpool.py\u001b[0m in \u001b[0;36m_make_request\u001b[1;34m(self, conn, method, url, timeout, chunked, **httplib_request_kw)\u001b[0m\n\u001b[0;32m    424\u001b[0m                     \u001b[1;31m# Python 3 (including for exceptions like SystemExit).\u001b[0m\u001b[1;33m\u001b[0m\u001b[1;33m\u001b[0m\u001b[1;33m\u001b[0m\u001b[0m\n\u001b[0;32m    425\u001b[0m                     \u001b[1;31m# Otherwise it looks like a bug in the code.\u001b[0m\u001b[1;33m\u001b[0m\u001b[1;33m\u001b[0m\u001b[1;33m\u001b[0m\u001b[0m\n\u001b[1;32m--> 426\u001b[1;33m                     \u001b[0msix\u001b[0m\u001b[1;33m.\u001b[0m\u001b[0mraise_from\u001b[0m\u001b[1;33m(\u001b[0m\u001b[0me\u001b[0m\u001b[1;33m,\u001b[0m \u001b[1;32mNone\u001b[0m\u001b[1;33m)\u001b[0m\u001b[1;33m\u001b[0m\u001b[1;33m\u001b[0m\u001b[0m\n\u001b[0m\u001b[0;32m    427\u001b[0m         \u001b[1;32mexcept\u001b[0m \u001b[1;33m(\u001b[0m\u001b[0mSocketTimeout\u001b[0m\u001b[1;33m,\u001b[0m \u001b[0mBaseSSLError\u001b[0m\u001b[1;33m,\u001b[0m \u001b[0mSocketError\u001b[0m\u001b[1;33m)\u001b[0m \u001b[1;32mas\u001b[0m \u001b[0me\u001b[0m\u001b[1;33m:\u001b[0m\u001b[1;33m\u001b[0m\u001b[1;33m\u001b[0m\u001b[0m\n\u001b[0;32m    428\u001b[0m             \u001b[0mself\u001b[0m\u001b[1;33m.\u001b[0m\u001b[0m_raise_timeout\u001b[0m\u001b[1;33m(\u001b[0m\u001b[0merr\u001b[0m\u001b[1;33m=\u001b[0m\u001b[0me\u001b[0m\u001b[1;33m,\u001b[0m \u001b[0murl\u001b[0m\u001b[1;33m=\u001b[0m\u001b[0murl\u001b[0m\u001b[1;33m,\u001b[0m \u001b[0mtimeout_value\u001b[0m\u001b[1;33m=\u001b[0m\u001b[0mread_timeout\u001b[0m\u001b[1;33m)\u001b[0m\u001b[1;33m\u001b[0m\u001b[1;33m\u001b[0m\u001b[0m\n",
      "\u001b[1;32m~\\miniconda3\\lib\\site-packages\\urllib3\\packages\\six.py\u001b[0m in \u001b[0;36mraise_from\u001b[1;34m(value, from_value)\u001b[0m\n",
      "\u001b[1;32m~\\miniconda3\\lib\\site-packages\\urllib3\\connectionpool.py\u001b[0m in \u001b[0;36m_make_request\u001b[1;34m(self, conn, method, url, timeout, chunked, **httplib_request_kw)\u001b[0m\n\u001b[0;32m    419\u001b[0m                 \u001b[1;31m# Python 3\u001b[0m\u001b[1;33m\u001b[0m\u001b[1;33m\u001b[0m\u001b[1;33m\u001b[0m\u001b[0m\n\u001b[0;32m    420\u001b[0m                 \u001b[1;32mtry\u001b[0m\u001b[1;33m:\u001b[0m\u001b[1;33m\u001b[0m\u001b[1;33m\u001b[0m\u001b[0m\n\u001b[1;32m--> 421\u001b[1;33m                     \u001b[0mhttplib_response\u001b[0m \u001b[1;33m=\u001b[0m \u001b[0mconn\u001b[0m\u001b[1;33m.\u001b[0m\u001b[0mgetresponse\u001b[0m\u001b[1;33m(\u001b[0m\u001b[1;33m)\u001b[0m\u001b[1;33m\u001b[0m\u001b[1;33m\u001b[0m\u001b[0m\n\u001b[0m\u001b[0;32m    422\u001b[0m                 \u001b[1;32mexcept\u001b[0m \u001b[0mBaseException\u001b[0m \u001b[1;32mas\u001b[0m \u001b[0me\u001b[0m\u001b[1;33m:\u001b[0m\u001b[1;33m\u001b[0m\u001b[1;33m\u001b[0m\u001b[0m\n\u001b[0;32m    423\u001b[0m                     \u001b[1;31m# Remove the TypeError from the exception chain in\u001b[0m\u001b[1;33m\u001b[0m\u001b[1;33m\u001b[0m\u001b[1;33m\u001b[0m\u001b[0m\n",
      "\u001b[1;32m~\\miniconda3\\lib\\http\\client.py\u001b[0m in \u001b[0;36mgetresponse\u001b[1;34m(self)\u001b[0m\n\u001b[0;32m   1345\u001b[0m         \u001b[1;32mtry\u001b[0m\u001b[1;33m:\u001b[0m\u001b[1;33m\u001b[0m\u001b[1;33m\u001b[0m\u001b[0m\n\u001b[0;32m   1346\u001b[0m             \u001b[1;32mtry\u001b[0m\u001b[1;33m:\u001b[0m\u001b[1;33m\u001b[0m\u001b[1;33m\u001b[0m\u001b[0m\n\u001b[1;32m-> 1347\u001b[1;33m                 \u001b[0mresponse\u001b[0m\u001b[1;33m.\u001b[0m\u001b[0mbegin\u001b[0m\u001b[1;33m(\u001b[0m\u001b[1;33m)\u001b[0m\u001b[1;33m\u001b[0m\u001b[1;33m\u001b[0m\u001b[0m\n\u001b[0m\u001b[0;32m   1348\u001b[0m             \u001b[1;32mexcept\u001b[0m \u001b[0mConnectionError\u001b[0m\u001b[1;33m:\u001b[0m\u001b[1;33m\u001b[0m\u001b[1;33m\u001b[0m\u001b[0m\n\u001b[0;32m   1349\u001b[0m                 \u001b[0mself\u001b[0m\u001b[1;33m.\u001b[0m\u001b[0mclose\u001b[0m\u001b[1;33m(\u001b[0m\u001b[1;33m)\u001b[0m\u001b[1;33m\u001b[0m\u001b[1;33m\u001b[0m\u001b[0m\n",
      "\u001b[1;32m~\\miniconda3\\lib\\http\\client.py\u001b[0m in \u001b[0;36mbegin\u001b[1;34m(self)\u001b[0m\n\u001b[0;32m    305\u001b[0m         \u001b[1;31m# read until we get a non-100 response\u001b[0m\u001b[1;33m\u001b[0m\u001b[1;33m\u001b[0m\u001b[1;33m\u001b[0m\u001b[0m\n\u001b[0;32m    306\u001b[0m         \u001b[1;32mwhile\u001b[0m \u001b[1;32mTrue\u001b[0m\u001b[1;33m:\u001b[0m\u001b[1;33m\u001b[0m\u001b[1;33m\u001b[0m\u001b[0m\n\u001b[1;32m--> 307\u001b[1;33m             \u001b[0mversion\u001b[0m\u001b[1;33m,\u001b[0m \u001b[0mstatus\u001b[0m\u001b[1;33m,\u001b[0m \u001b[0mreason\u001b[0m \u001b[1;33m=\u001b[0m \u001b[0mself\u001b[0m\u001b[1;33m.\u001b[0m\u001b[0m_read_status\u001b[0m\u001b[1;33m(\u001b[0m\u001b[1;33m)\u001b[0m\u001b[1;33m\u001b[0m\u001b[1;33m\u001b[0m\u001b[0m\n\u001b[0m\u001b[0;32m    308\u001b[0m             \u001b[1;32mif\u001b[0m \u001b[0mstatus\u001b[0m \u001b[1;33m!=\u001b[0m \u001b[0mCONTINUE\u001b[0m\u001b[1;33m:\u001b[0m\u001b[1;33m\u001b[0m\u001b[1;33m\u001b[0m\u001b[0m\n\u001b[0;32m    309\u001b[0m                 \u001b[1;32mbreak\u001b[0m\u001b[1;33m\u001b[0m\u001b[1;33m\u001b[0m\u001b[0m\n",
      "\u001b[1;32m~\\miniconda3\\lib\\http\\client.py\u001b[0m in \u001b[0;36m_read_status\u001b[1;34m(self)\u001b[0m\n\u001b[0;32m    266\u001b[0m \u001b[1;33m\u001b[0m\u001b[0m\n\u001b[0;32m    267\u001b[0m     \u001b[1;32mdef\u001b[0m \u001b[0m_read_status\u001b[0m\u001b[1;33m(\u001b[0m\u001b[0mself\u001b[0m\u001b[1;33m)\u001b[0m\u001b[1;33m:\u001b[0m\u001b[1;33m\u001b[0m\u001b[1;33m\u001b[0m\u001b[0m\n\u001b[1;32m--> 268\u001b[1;33m         \u001b[0mline\u001b[0m \u001b[1;33m=\u001b[0m \u001b[0mstr\u001b[0m\u001b[1;33m(\u001b[0m\u001b[0mself\u001b[0m\u001b[1;33m.\u001b[0m\u001b[0mfp\u001b[0m\u001b[1;33m.\u001b[0m\u001b[0mreadline\u001b[0m\u001b[1;33m(\u001b[0m\u001b[0m_MAXLINE\u001b[0m \u001b[1;33m+\u001b[0m \u001b[1;36m1\u001b[0m\u001b[1;33m)\u001b[0m\u001b[1;33m,\u001b[0m \u001b[1;34m\"iso-8859-1\"\u001b[0m\u001b[1;33m)\u001b[0m\u001b[1;33m\u001b[0m\u001b[1;33m\u001b[0m\u001b[0m\n\u001b[0m\u001b[0;32m    269\u001b[0m         \u001b[1;32mif\u001b[0m \u001b[0mlen\u001b[0m\u001b[1;33m(\u001b[0m\u001b[0mline\u001b[0m\u001b[1;33m)\u001b[0m \u001b[1;33m>\u001b[0m \u001b[0m_MAXLINE\u001b[0m\u001b[1;33m:\u001b[0m\u001b[1;33m\u001b[0m\u001b[1;33m\u001b[0m\u001b[0m\n\u001b[0;32m    270\u001b[0m             \u001b[1;32mraise\u001b[0m \u001b[0mLineTooLong\u001b[0m\u001b[1;33m(\u001b[0m\u001b[1;34m\"status line\"\u001b[0m\u001b[1;33m)\u001b[0m\u001b[1;33m\u001b[0m\u001b[1;33m\u001b[0m\u001b[0m\n",
      "\u001b[1;32m~\\miniconda3\\lib\\socket.py\u001b[0m in \u001b[0;36mreadinto\u001b[1;34m(self, b)\u001b[0m\n\u001b[0;32m    702\u001b[0m         \u001b[1;32mwhile\u001b[0m \u001b[1;32mTrue\u001b[0m\u001b[1;33m:\u001b[0m\u001b[1;33m\u001b[0m\u001b[1;33m\u001b[0m\u001b[0m\n\u001b[0;32m    703\u001b[0m             \u001b[1;32mtry\u001b[0m\u001b[1;33m:\u001b[0m\u001b[1;33m\u001b[0m\u001b[1;33m\u001b[0m\u001b[0m\n\u001b[1;32m--> 704\u001b[1;33m                 \u001b[1;32mreturn\u001b[0m \u001b[0mself\u001b[0m\u001b[1;33m.\u001b[0m\u001b[0m_sock\u001b[0m\u001b[1;33m.\u001b[0m\u001b[0mrecv_into\u001b[0m\u001b[1;33m(\u001b[0m\u001b[0mb\u001b[0m\u001b[1;33m)\u001b[0m\u001b[1;33m\u001b[0m\u001b[1;33m\u001b[0m\u001b[0m\n\u001b[0m\u001b[0;32m    705\u001b[0m             \u001b[1;32mexcept\u001b[0m \u001b[0mtimeout\u001b[0m\u001b[1;33m:\u001b[0m\u001b[1;33m\u001b[0m\u001b[1;33m\u001b[0m\u001b[0m\n\u001b[0;32m    706\u001b[0m                 \u001b[0mself\u001b[0m\u001b[1;33m.\u001b[0m\u001b[0m_timeout_occurred\u001b[0m \u001b[1;33m=\u001b[0m \u001b[1;32mTrue\u001b[0m\u001b[1;33m\u001b[0m\u001b[1;33m\u001b[0m\u001b[0m\n",
      "\u001b[1;32m~\\miniconda3\\lib\\ssl.py\u001b[0m in \u001b[0;36mrecv_into\u001b[1;34m(self, buffer, nbytes, flags)\u001b[0m\n\u001b[0;32m   1239\u001b[0m                   \u001b[1;34m\"non-zero flags not allowed in calls to recv_into() on %s\"\u001b[0m \u001b[1;33m%\u001b[0m\u001b[1;33m\u001b[0m\u001b[1;33m\u001b[0m\u001b[0m\n\u001b[0;32m   1240\u001b[0m                   self.__class__)\n\u001b[1;32m-> 1241\u001b[1;33m             \u001b[1;32mreturn\u001b[0m \u001b[0mself\u001b[0m\u001b[1;33m.\u001b[0m\u001b[0mread\u001b[0m\u001b[1;33m(\u001b[0m\u001b[0mnbytes\u001b[0m\u001b[1;33m,\u001b[0m \u001b[0mbuffer\u001b[0m\u001b[1;33m)\u001b[0m\u001b[1;33m\u001b[0m\u001b[1;33m\u001b[0m\u001b[0m\n\u001b[0m\u001b[0;32m   1242\u001b[0m         \u001b[1;32melse\u001b[0m\u001b[1;33m:\u001b[0m\u001b[1;33m\u001b[0m\u001b[1;33m\u001b[0m\u001b[0m\n\u001b[0;32m   1243\u001b[0m             \u001b[1;32mreturn\u001b[0m \u001b[0msuper\u001b[0m\u001b[1;33m(\u001b[0m\u001b[1;33m)\u001b[0m\u001b[1;33m.\u001b[0m\u001b[0mrecv_into\u001b[0m\u001b[1;33m(\u001b[0m\u001b[0mbuffer\u001b[0m\u001b[1;33m,\u001b[0m \u001b[0mnbytes\u001b[0m\u001b[1;33m,\u001b[0m \u001b[0mflags\u001b[0m\u001b[1;33m)\u001b[0m\u001b[1;33m\u001b[0m\u001b[1;33m\u001b[0m\u001b[0m\n",
      "\u001b[1;32m~\\miniconda3\\lib\\ssl.py\u001b[0m in \u001b[0;36mread\u001b[1;34m(self, len, buffer)\u001b[0m\n\u001b[0;32m   1097\u001b[0m         \u001b[1;32mtry\u001b[0m\u001b[1;33m:\u001b[0m\u001b[1;33m\u001b[0m\u001b[1;33m\u001b[0m\u001b[0m\n\u001b[0;32m   1098\u001b[0m             \u001b[1;32mif\u001b[0m \u001b[0mbuffer\u001b[0m \u001b[1;32mis\u001b[0m \u001b[1;32mnot\u001b[0m \u001b[1;32mNone\u001b[0m\u001b[1;33m:\u001b[0m\u001b[1;33m\u001b[0m\u001b[1;33m\u001b[0m\u001b[0m\n\u001b[1;32m-> 1099\u001b[1;33m                 \u001b[1;32mreturn\u001b[0m \u001b[0mself\u001b[0m\u001b[1;33m.\u001b[0m\u001b[0m_sslobj\u001b[0m\u001b[1;33m.\u001b[0m\u001b[0mread\u001b[0m\u001b[1;33m(\u001b[0m\u001b[0mlen\u001b[0m\u001b[1;33m,\u001b[0m \u001b[0mbuffer\u001b[0m\u001b[1;33m)\u001b[0m\u001b[1;33m\u001b[0m\u001b[1;33m\u001b[0m\u001b[0m\n\u001b[0m\u001b[0;32m   1100\u001b[0m             \u001b[1;32melse\u001b[0m\u001b[1;33m:\u001b[0m\u001b[1;33m\u001b[0m\u001b[1;33m\u001b[0m\u001b[0m\n\u001b[0;32m   1101\u001b[0m                 \u001b[1;32mreturn\u001b[0m \u001b[0mself\u001b[0m\u001b[1;33m.\u001b[0m\u001b[0m_sslobj\u001b[0m\u001b[1;33m.\u001b[0m\u001b[0mread\u001b[0m\u001b[1;33m(\u001b[0m\u001b[0mlen\u001b[0m\u001b[1;33m)\u001b[0m\u001b[1;33m\u001b[0m\u001b[1;33m\u001b[0m\u001b[0m\n",
      "\u001b[1;31mKeyboardInterrupt\u001b[0m: "
     ]
    }
   ],
   "source": [
    "game_level = list(range(95))\n",
    "cpu_level = list(range(1403))\n",
    "gpu_level = list(range(790))\n",
    "for games in tqdm(game_level, desc='Games', position=0, leave=False):\n",
    "    counter=1\n",
    "    for some in tqdm(cpu_level, desc='CPUs', leave=False):\n",
    "        for number in tqdm(gpu_level, desc='GPUs', position=1, leave=False):\n",
    "            time.sleep(0.01)\n",
    "            quality_counter=0\n",
    "            data = {\"gameId\" : games_hmf_df['id'].iloc[games],\n",
    "                    \"presetName\": quality_list[quality],\"resolutionName\":\"1920x1080\",\n",
    "                    \"cpuId\":cpu_df['id'].iloc[some],\n",
    "                    \"gpuId\":gpu_df['id'].iloc[number]}\n",
    "            response = requests.post(url, json = data, headers=headers)\n",
    "            fps=int(re.search(r'\\d+', response.text).group())\n",
    "            benchmark_df.loc[counter,:]=[games_hmf_df['Name'].iloc[games],\n",
    "                                        games_hmf_df['id'].iloc[games],\n",
    "                                        cpu_df['model'].iloc[some],\n",
    "                                        cpu_df['id'].iloc[some],\n",
    "                                        gpu_df['model'].iloc[number],\n",
    "                                        gpu_df['id'].iloc[number],\n",
    "                                        fps,\n",
    "                                        0,\n",
    "                                        0,\n",
    "                                        0]\n",
    "            counter=counter+1\n",
    "        "
   ]
  },
  {
   "cell_type": "code",
   "execution_count": 151,
   "id": "86d5400a-7ded-4235-a09d-4ece62b9df43",
   "metadata": {},
   "outputs": [
    {
     "data": {
      "text/html": [
       "<div>\n",
       "<style scoped>\n",
       "    .dataframe tbody tr th:only-of-type {\n",
       "        vertical-align: middle;\n",
       "    }\n",
       "\n",
       "    .dataframe tbody tr th {\n",
       "        vertical-align: top;\n",
       "    }\n",
       "\n",
       "    .dataframe thead th {\n",
       "        text-align: right;\n",
       "    }\n",
       "</style>\n",
       "<table border=\"1\" class=\"dataframe\">\n",
       "  <thead>\n",
       "    <tr style=\"text-align: right;\">\n",
       "      <th></th>\n",
       "      <th>Game</th>\n",
       "      <th>game_id</th>\n",
       "      <th>CPU</th>\n",
       "      <th>cpu_id</th>\n",
       "      <th>GPU</th>\n",
       "      <th>gpu_id</th>\n",
       "      <th>Low</th>\n",
       "      <th>Medium</th>\n",
       "      <th>High</th>\n",
       "      <th>Ultra</th>\n",
       "    </tr>\n",
       "  </thead>\n",
       "  <tbody>\n",
       "    <tr>\n",
       "      <th>1</th>\n",
       "      <td>Middle-earth: Shadow of War</td>\n",
       "      <td>5df6543578d827f9698e95ac</td>\n",
       "      <td>Core i7-11800H</td>\n",
       "      <td>60f014a31711b076a37bf240</td>\n",
       "      <td>Radeon Pro W6800</td>\n",
       "      <td>60f04d641385bd17bac9ad0d</td>\n",
       "      <td>533</td>\n",
       "      <td>0</td>\n",
       "      <td>0</td>\n",
       "      <td>0</td>\n",
       "    </tr>\n",
       "    <tr>\n",
       "      <th>2</th>\n",
       "      <td>Middle-earth: Shadow of War</td>\n",
       "      <td>5df6543578d827f9698e95ac</td>\n",
       "      <td>Core i7-11800H</td>\n",
       "      <td>60f014a31711b076a37bf240</td>\n",
       "      <td>Radeon Pro W6600M</td>\n",
       "      <td>60f04d641385bd17bac9ad0c</td>\n",
       "      <td>491</td>\n",
       "      <td>0</td>\n",
       "      <td>0</td>\n",
       "      <td>0</td>\n",
       "    </tr>\n",
       "    <tr>\n",
       "      <th>3</th>\n",
       "      <td>Middle-earth: Shadow of War</td>\n",
       "      <td>5df6543578d827f9698e95ac</td>\n",
       "      <td>Core i7-11800H</td>\n",
       "      <td>60f014a31711b076a37bf240</td>\n",
       "      <td>Radeon Pro W6600</td>\n",
       "      <td>60f04d641385bd17bac9ad0b</td>\n",
       "      <td>491</td>\n",
       "      <td>0</td>\n",
       "      <td>0</td>\n",
       "      <td>0</td>\n",
       "    </tr>\n",
       "    <tr>\n",
       "      <th>4</th>\n",
       "      <td>Middle-earth: Shadow of War</td>\n",
       "      <td>5df6543578d827f9698e95ac</td>\n",
       "      <td>Core i7-11800H</td>\n",
       "      <td>60f014a31711b076a37bf240</td>\n",
       "      <td>GeForce RTX 3080 Ti</td>\n",
       "      <td>6003866ba37b1acb2d7d72db</td>\n",
       "      <td>591</td>\n",
       "      <td>0</td>\n",
       "      <td>0</td>\n",
       "      <td>0</td>\n",
       "    </tr>\n",
       "    <tr>\n",
       "      <th>5</th>\n",
       "      <td>Middle-earth: Shadow of War</td>\n",
       "      <td>5df6543578d827f9698e95ac</td>\n",
       "      <td>Core i7-11800H</td>\n",
       "      <td>60f014a31711b076a37bf240</td>\n",
       "      <td>GeForce RTX 3070 Ti</td>\n",
       "      <td>6003866ba37b1acb2d7d72da</td>\n",
       "      <td>510</td>\n",
       "      <td>0</td>\n",
       "      <td>0</td>\n",
       "      <td>0</td>\n",
       "    </tr>\n",
       "    <tr>\n",
       "      <th>6</th>\n",
       "      <td>Middle-earth: Shadow of War</td>\n",
       "      <td>5df6543578d827f9698e95ac</td>\n",
       "      <td>Core i7-11800H</td>\n",
       "      <td>60f014a31711b076a37bf240</td>\n",
       "      <td>GeForce RTX 3050 Ti Mobile</td>\n",
       "      <td>60f04d641385bd17bac9ad11</td>\n",
       "      <td>328</td>\n",
       "      <td>0</td>\n",
       "      <td>0</td>\n",
       "      <td>0</td>\n",
       "    </tr>\n",
       "    <tr>\n",
       "      <th>7</th>\n",
       "      <td>Middle-earth: Shadow of War</td>\n",
       "      <td>5df6543578d827f9698e95ac</td>\n",
       "      <td>Core i7-11800H</td>\n",
       "      <td>60f014a31711b076a37bf240</td>\n",
       "      <td>GeForce RTX 3050 Mobile</td>\n",
       "      <td>60f04d641385bd17bac9ad10</td>\n",
       "      <td>318</td>\n",
       "      <td>0</td>\n",
       "      <td>0</td>\n",
       "      <td>0</td>\n",
       "    </tr>\n",
       "    <tr>\n",
       "      <th>8</th>\n",
       "      <td>Middle-earth: Shadow of War</td>\n",
       "      <td>5df6543578d827f9698e95ac</td>\n",
       "      <td>Core i7-11800H</td>\n",
       "      <td>60f014a31711b076a37bf240</td>\n",
       "      <td>Radeon RX 6700 XT</td>\n",
       "      <td>60f04d641385bd17bac9ad07</td>\n",
       "      <td>502</td>\n",
       "      <td>0</td>\n",
       "      <td>0</td>\n",
       "      <td>0</td>\n",
       "    </tr>\n",
       "    <tr>\n",
       "      <th>9</th>\n",
       "      <td>Middle-earth: Shadow of War</td>\n",
       "      <td>5df6543578d827f9698e95ac</td>\n",
       "      <td>Core i7-11800H</td>\n",
       "      <td>60f014a31711b076a37bf240</td>\n",
       "      <td>GeForce GT 1010</td>\n",
       "      <td>6003866ba37b1acb2d7d72b1</td>\n",
       "      <td>287</td>\n",
       "      <td>0</td>\n",
       "      <td>0</td>\n",
       "      <td>0</td>\n",
       "    </tr>\n",
       "    <tr>\n",
       "      <th>10</th>\n",
       "      <td>Middle-earth: Shadow of War</td>\n",
       "      <td>5df6543578d827f9698e95ac</td>\n",
       "      <td>Core i7-11800H</td>\n",
       "      <td>60f014a31711b076a37bf240</td>\n",
       "      <td>GeForce RTX 3080 Mobile</td>\n",
       "      <td>6003866ba37b1acb2d7d7302</td>\n",
       "      <td>470</td>\n",
       "      <td>0</td>\n",
       "      <td>0</td>\n",
       "      <td>0</td>\n",
       "    </tr>\n",
       "  </tbody>\n",
       "</table>\n",
       "</div>"
      ],
      "text/plain": [
       "                           Game                   game_id             CPU  \\\n",
       "1   Middle-earth: Shadow of War  5df6543578d827f9698e95ac  Core i7-11800H   \n",
       "2   Middle-earth: Shadow of War  5df6543578d827f9698e95ac  Core i7-11800H   \n",
       "3   Middle-earth: Shadow of War  5df6543578d827f9698e95ac  Core i7-11800H   \n",
       "4   Middle-earth: Shadow of War  5df6543578d827f9698e95ac  Core i7-11800H   \n",
       "5   Middle-earth: Shadow of War  5df6543578d827f9698e95ac  Core i7-11800H   \n",
       "6   Middle-earth: Shadow of War  5df6543578d827f9698e95ac  Core i7-11800H   \n",
       "7   Middle-earth: Shadow of War  5df6543578d827f9698e95ac  Core i7-11800H   \n",
       "8   Middle-earth: Shadow of War  5df6543578d827f9698e95ac  Core i7-11800H   \n",
       "9   Middle-earth: Shadow of War  5df6543578d827f9698e95ac  Core i7-11800H   \n",
       "10  Middle-earth: Shadow of War  5df6543578d827f9698e95ac  Core i7-11800H   \n",
       "\n",
       "                      cpu_id                         GPU  \\\n",
       "1   60f014a31711b076a37bf240            Radeon Pro W6800   \n",
       "2   60f014a31711b076a37bf240           Radeon Pro W6600M   \n",
       "3   60f014a31711b076a37bf240            Radeon Pro W6600   \n",
       "4   60f014a31711b076a37bf240         GeForce RTX 3080 Ti   \n",
       "5   60f014a31711b076a37bf240         GeForce RTX 3070 Ti   \n",
       "6   60f014a31711b076a37bf240  GeForce RTX 3050 Ti Mobile   \n",
       "7   60f014a31711b076a37bf240     GeForce RTX 3050 Mobile   \n",
       "8   60f014a31711b076a37bf240           Radeon RX 6700 XT   \n",
       "9   60f014a31711b076a37bf240             GeForce GT 1010   \n",
       "10  60f014a31711b076a37bf240     GeForce RTX 3080 Mobile   \n",
       "\n",
       "                      gpu_id  Low  Medium  High  Ultra  \n",
       "1   60f04d641385bd17bac9ad0d  533       0     0      0  \n",
       "2   60f04d641385bd17bac9ad0c  491       0     0      0  \n",
       "3   60f04d641385bd17bac9ad0b  491       0     0      0  \n",
       "4   6003866ba37b1acb2d7d72db  591       0     0      0  \n",
       "5   6003866ba37b1acb2d7d72da  510       0     0      0  \n",
       "6   60f04d641385bd17bac9ad11  328       0     0      0  \n",
       "7   60f04d641385bd17bac9ad10  318       0     0      0  \n",
       "8   60f04d641385bd17bac9ad07  502       0     0      0  \n",
       "9   6003866ba37b1acb2d7d72b1  287       0     0      0  \n",
       "10  6003866ba37b1acb2d7d7302  470       0     0      0  "
      ]
     },
     "execution_count": 151,
     "metadata": {},
     "output_type": "execute_result"
    }
   ],
   "source": [
    "benchmark_df.Low = benchmark_df.Low.astype(int)\n",
    "benchmark_df.Medium = benchmark_df.Medium.astype(int)\n",
    "benchmark_df.High = benchmark_df.High.astype(int)\n",
    "benchmark_df.Ultra = benchmark_df.Ultra.astype(int)\n",
    "benchmark_df.head(10)"
   ]
  },
  {
   "cell_type": "code",
   "execution_count": null,
   "id": "ba6e7ce6-be4c-4534-8a8e-6a1633528f48",
   "metadata": {},
   "outputs": [],
   "source": [
    "benchmark_df.to_csv('C:/Users/Nick/Desktop/GitHub/video-games-benchmark-with-custom-parts-master/Data/benchmark_df.csv', index=False)"
   ]
  },
  {
   "cell_type": "code",
   "execution_count": null,
   "id": "84e6ec88-087a-4164-a66a-777ee6c90ca1",
   "metadata": {},
   "outputs": [],
   "source": []
  },
  {
   "cell_type": "code",
   "execution_count": null,
   "id": "e391a5a5-b001-4087-8b32-df3edbe3ed62",
   "metadata": {},
   "outputs": [],
   "source": [
    "\n",
    "\n",
    "        "
   ]
  },
  {
   "cell_type": "code",
   "execution_count": null,
   "id": "5b339e30-88a4-41e9-aa8d-e82833f61b3c",
   "metadata": {},
   "outputs": [],
   "source": []
  },
  {
   "cell_type": "code",
   "execution_count": null,
   "id": "ce1ac2f3-a5a8-4631-9cfa-c4beaf3e319f",
   "metadata": {},
   "outputs": [],
   "source": []
  },
  {
   "cell_type": "code",
   "execution_count": null,
   "id": "9aabb1d2-c72f-4ad5-a42b-9e0e0845a102",
   "metadata": {},
   "outputs": [],
   "source": []
  },
  {
   "cell_type": "code",
   "execution_count": null,
   "id": "01a4b8e2-0f56-4658-bc53-b1c3a50460e4",
   "metadata": {},
   "outputs": [],
   "source": []
  },
  {
   "cell_type": "code",
   "execution_count": null,
   "id": "8dd3a73d-a5ef-4eae-9f8e-fc1408b78e3f",
   "metadata": {},
   "outputs": [],
   "source": []
  },
  {
   "cell_type": "code",
   "execution_count": null,
   "id": "209f02aa-e8c0-4ee5-a4ec-45e53804c612",
   "metadata": {},
   "outputs": [],
   "source": []
  },
  {
   "cell_type": "code",
   "execution_count": null,
   "id": "1fb6259b-5384-4384-9dfd-7ca3627f81d9",
   "metadata": {},
   "outputs": [],
   "source": []
  },
  {
   "cell_type": "code",
   "execution_count": null,
   "id": "7a90afaf-0ce2-4216-bed1-b12c3e260fdb",
   "metadata": {},
   "outputs": [],
   "source": []
  },
  {
   "cell_type": "code",
   "execution_count": null,
   "id": "bef83230-52b2-4398-adf2-6dca0372d122",
   "metadata": {},
   "outputs": [],
   "source": []
  },
  {
   "cell_type": "code",
   "execution_count": null,
   "id": "98e28506-a797-4776-8c8e-71dab77126d8",
   "metadata": {},
   "outputs": [],
   "source": []
  }
 ],
 "metadata": {
  "kernelspec": {
   "display_name": "Python 3 (ipykernel)",
   "language": "python",
   "name": "python3"
  },
  "language_info": {
   "codemirror_mode": {
    "name": "ipython",
    "version": 3
   },
   "file_extension": ".py",
   "mimetype": "text/x-python",
   "name": "python",
   "nbconvert_exporter": "python",
   "pygments_lexer": "ipython3",
   "version": "3.9.1"
  }
 },
 "nbformat": 4,
 "nbformat_minor": 5
}
