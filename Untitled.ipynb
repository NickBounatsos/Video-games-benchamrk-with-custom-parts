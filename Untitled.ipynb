{
 "cells": [
  {
   "cell_type": "markdown",
   "id": "c964e7a9-ff7e-4878-8862-cc01a13a42bd",
   "metadata": {},
   "source": [
    "Scraping <a href=\"https://www.userbenchmark.com/EFps/,,,_,,,_CSGO,2060S,11700K,\" class=\"productgrid productgrid-hvr\">\n",
    "                            <span class=\"productgrid-cap blacktext mhelipsis\">CSGO: \n",
    "                                306 EFps\n",
    "                                \n",
    "                                    <i class=\"fa fa-gamepad darkorangetext\"></i>\n",
    "                            </span>\n",
    "                            <img class=\"productgrid-img lazy\" src=\"https://static.userbenchmark.com/resources/static/games/csgo.png\" data-original=\"https://static.userbenchmark.com/resources/static/games/csgo.png\" style=\"display: inline;\">\n",
    "                        </a>"
   ]
  },
  {
   "cell_type": "markdown",
   "id": "ecf56cfb-757f-4599-b293-035ce3bb7d2e",
   "metadata": {},
   "source": [
    "Scraping Price"
   ]
  },
  {
   "cell_type": "code",
   "execution_count": null,
   "id": "a7ef5eb0-363e-49da-a566-1b0f2229d0cc",
   "metadata": {},
   "outputs": [],
   "source": []
  }
 ],
 "metadata": {
  "kernelspec": {
   "display_name": "Python 3 (ipykernel)",
   "language": "python",
   "name": "python3"
  },
  "language_info": {
   "codemirror_mode": {
    "name": "ipython",
    "version": 3
   },
   "file_extension": ".py",
   "mimetype": "text/x-python",
   "name": "python",
   "nbconvert_exporter": "python",
   "pygments_lexer": "ipython3",
   "version": "3.9.1"
  }
 },
 "nbformat": 4,
 "nbformat_minor": 5
}
